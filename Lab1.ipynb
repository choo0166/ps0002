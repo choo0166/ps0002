{
  "cells": [
    {
      "metadata": {},
      "cell_type": "markdown",
      "source": "#### Task 1"
    },
    {
      "metadata": {
        "trusted": true
      },
      "cell_type": "code",
      "source": "columns = c('id', 'gender', 'height', 'weight', 'siblings')\nlab1 <- read.fwf('lab1fixed.txt', width=c(3,1,3,2,1), col.names=columns)\nlab1m <- lab1[lab1$gender=='M',];lab1m  # Subsets dataframe to male subjects \nnrow(lab1m)  # Number of male subjects\nattach(lab1)\n\nlab1fixed <- read.table('lab1test.txt', header=T); lab1fixed\n##lab1merge <- cbind(lab1, lab1fixed); lab1merge[,6] <- NULL; lab1merge  # Need to remove duplicate id column with cbind\nlab1merge <- merge(lab1, lab1fixed, by=\"id\"); lab1merge  # Merges dataframes by common column\ndf_ht182 <- lab1merge[lab1merge$height>182,]; df_ht182  # Test scores of subjects with height > 182\n\nlab1remo <- subset(lab1, id!=211); lab1remo  # Subsets dataframe to id's that are not 211\nlab1remo <- lab1[-11,]  # Same as above but by index of row\n\nlab1[id==211,'weight'] <- 60  # Replace weight of subject 211 with 60\nlab1$id[id==211] <- 'XX'; lab1  # Replace subject id of 211 with XX\n\nlab1f <- lab1merge[lab1merge$gender=='F',];lab1f  # Subsets dataframe to female subjects\nattach(lab1f)\nlab1f <- lab1f[order(-height),]; lab1f  # Sorts height by descending order\nlab1f[2, c('height', 'weight', 'test')]  # Height, weight and test score of 2nd tallest female \n",
      "execution_count": null,
      "outputs": []
    },
    {
      "metadata": {},
      "cell_type": "markdown",
      "source": "#### Task 2"
    },
    {
      "metadata": {
        "trusted": true
      },
      "cell_type": "code",
      "source": "x <- c(1,1,1,1,1,3,5,7)\nmatX <- matrix(x, 4, 2); matX\nmatY <- matrix(c(4,6,13,20), 4, 1); matY\nmatBeta <- solve(t(matX) %*% matX) %*% (t(matX) %*% matY); matBeta",
      "execution_count": 2,
      "outputs": [
        {
          "output_type": "display_data",
          "data": {
            "text/plain": "     [,1] [,2]\n[1,] 1    1   \n[2,] 1    3   \n[3,] 1    5   \n[4,] 1    7   ",
            "text/latex": "A matrix: 4 x 2 of type dbl\n\\begin{tabular}{ll}\n\t 1 & 1\\\\\n\t 1 & 3\\\\\n\t 1 & 5\\\\\n\t 1 & 7\\\\\n\\end{tabular}\n",
            "text/markdown": "\nA matrix: 4 x 2 of type dbl\n\n| 1 | 1 |\n| 1 | 3 |\n| 1 | 5 |\n| 1 | 7 |\n\n",
            "text/html": "<table>\n<caption>A matrix: 4 x 2 of type dbl</caption>\n<tbody>\n\t<tr><td>1</td><td>1</td></tr>\n\t<tr><td>1</td><td>3</td></tr>\n\t<tr><td>1</td><td>5</td></tr>\n\t<tr><td>1</td><td>7</td></tr>\n</tbody>\n</table>\n"
          },
          "metadata": {}
        },
        {
          "output_type": "display_data",
          "data": {
            "text/plain": "     [,1]\n[1,]  4  \n[2,]  6  \n[3,] 13  \n[4,] 20  ",
            "text/latex": "A matrix: 4 x 1 of type dbl\n\\begin{tabular}{l}\n\t  4\\\\\n\t  6\\\\\n\t 13\\\\\n\t 20\\\\\n\\end{tabular}\n",
            "text/markdown": "\nA matrix: 4 x 1 of type dbl\n\n|  4 |\n|  6 |\n| 13 |\n| 20 |\n\n",
            "text/html": "<table>\n<caption>A matrix: 4 x 1 of type dbl</caption>\n<tbody>\n\t<tr><td> 4</td></tr>\n\t<tr><td> 6</td></tr>\n\t<tr><td>13</td></tr>\n\t<tr><td>20</td></tr>\n</tbody>\n</table>\n"
          },
          "metadata": {}
        },
        {
          "output_type": "display_data",
          "data": {
            "text/plain": "     [,1] \n[1,] -0.25\n[2,]  2.75",
            "text/latex": "A matrix: 2 x 1 of type dbl\n\\begin{tabular}{l}\n\t -0.25\\\\\n\t  2.75\\\\\n\\end{tabular}\n",
            "text/markdown": "\nA matrix: 2 x 1 of type dbl\n\n| -0.25 |\n|  2.75 |\n\n",
            "text/html": "<table>\n<caption>A matrix: 2 x 1 of type dbl</caption>\n<tbody>\n\t<tr><td>-0.25</td></tr>\n\t<tr><td> 2.75</td></tr>\n</tbody>\n</table>\n"
          },
          "metadata": {}
        }
      ]
    },
    {
      "metadata": {},
      "cell_type": "markdown",
      "source": "#### Task 3"
    },
    {
      "metadata": {
        "trusted": true
      },
      "cell_type": "code",
      "source": "calcmoments <- function(data) {\n    moments <- numeric(4)  # List of computations\n    moments[1] <- mean(data)\n    for(i in 2:4) {\n        m[i] <- sum((data - moments[1])^i) / length(data)  # This is allowed since R clones the scalar multiple times\n    }\n    return(moments)\n}",
      "execution_count": null,
      "outputs": []
    },
    {
      "metadata": {},
      "cell_type": "markdown",
      "source": "#### Task 4"
    },
    {
      "metadata": {
        "trusted": true
      },
      "cell_type": "code",
      "source": "# Find an approximated root based on bisection algorithm\n# of a given polynomial in an interval\nfindRoot <- function(xmin, xmax, f) {\n    xmid <- (xmin + xmax) / 2\n    while(abs(f(xmid)) > 1e-6) {\n        # Idea based on intermediate value theorem\n        if(f(xmin)*f(xmid) < 0) {\n            xmax <- xmid\n        } else if(f(xmin)*f(xmid) > 0) {\n            xmin <- xmid\n        } else if(abs(xmid - xmin) < 1e-6 | abs(xmax - xmid) < 1e-6) {\n            return(NULL)\n        }\n        xmid <- (xmin + xmax) / 2\n        cat(xmin, xmid, xmax)\n    }\n    return(xmid)\n}\n\npolynom <- function(x) {\n    return(-2*x^2-5*x+7)\n} \n\nfindRoot(1.1, 2, polynom)",
      "execution_count": 5,
      "outputs": []
    },
    {
      "metadata": {
        "trusted": true
      },
      "cell_type": "code",
      "source": "",
      "execution_count": null,
      "outputs": []
    }
  ],
  "metadata": {
    "kernelspec": {
      "name": "r",
      "display_name": "R",
      "language": "R"
    },
    "language_info": {
      "mimetype": "text/x-r-source",
      "name": "R",
      "pygments_lexer": "r",
      "version": "3.5.3",
      "file_extension": ".r",
      "codemirror_mode": "r"
    }
  },
  "nbformat": 4,
  "nbformat_minor": 2
}